{
  "nbformat": 4,
  "nbformat_minor": 0,
  "metadata": {
    "colab": {
      "provenance": [],
      "include_colab_link": true
    },
    "kernelspec": {
      "name": "python3",
      "display_name": "Python 3"
    },
    "language_info": {
      "name": "python"
    }
  },
  "cells": [
    {
      "cell_type": "markdown",
      "metadata": {
        "id": "view-in-github",
        "colab_type": "text"
      },
      "source": [
        "<a href=\"https://colab.research.google.com/github/mayfluf/oficina-pretalab/blob/main/Python_Data_Science_%2B1.ipynb\" target=\"_parent\"><img src=\"https://colab.research.google.com/assets/colab-badge.svg\" alt=\"Open In Colab\"/></a>"
      ]
    },
    {
      "cell_type": "markdown",
      "source": [
        "# Python basico para Data science\n"
      ],
      "metadata": {
        "id": "lQx6Mmv0OJyT"
      }
    },
    {
      "cell_type": "markdown",
      "source": [
        "# Introdução ao Python\n",
        "\n",
        "Vamos conhecer o Python, nosso ambiente de estudo e também faremos nosso primeiro código nessa linguagem!"
      ],
      "metadata": {
        "id": "7SiB6JIpYKmY"
      }
    },
    {
      "cell_type": "markdown",
      "source": [
        "## Google Colaboratory\n",
        "\n",
        "Já aprendemos o que é o [Python](https://www.python.org/) agora vamos aprender a utilzar o [Google Colaboratory](https://colab.research.google.com/) e programar em um notebook.\n",
        "\n",
        "Vamos testar algumas funções dessa ferramenta."
      ],
      "metadata": {
        "id": "Yugfb3fCOYY9"
      }
    },
    {
      "cell_type": "markdown",
      "source": [
        " **`>>> Use essa célula para mover <<<`**"
      ],
      "metadata": {
        "id": "2iUHQsJasJAk"
      }
    },
    {
      "cell_type": "code",
      "source": [
        "10"
      ],
      "metadata": {
        "id": "QlxMzVQ9r8g2",
        "colab": {
          "base_uri": "https://localhost:8080/"
        },
        "outputId": "ac3da840-b1bd-4318-d709-bf57e4d45a36"
      },
      "execution_count": 1,
      "outputs": [
        {
          "output_type": "execute_result",
          "data": {
            "text/plain": [
              "10"
            ]
          },
          "metadata": {},
          "execution_count": 1
        }
      ]
    },
    {
      "cell_type": "markdown",
      "source": [
        "## Olá mundo!\n",
        "\n",
        "Vamso conhecer mais como funciona o ambiente interativo de um notebook. Para isso vamos executar nosso primeiro comando em Python: [`print()`](https://docs.python.org/3/library/functions.html#print)"
      ],
      "metadata": {
        "id": "aLSFP2V7XTfe"
      }
    },
    {
      "cell_type": "code",
      "source": [
        "print('Olá mundo!')"
      ],
      "metadata": {
        "id": "bJ5c5x5gr_Z5",
        "colab": {
          "base_uri": "https://localhost:8080/"
        },
        "outputId": "744df0a4-a67c-479a-e663-bbad61eb2196"
      },
      "execution_count": 2,
      "outputs": [
        {
          "output_type": "stream",
          "name": "stdout",
          "text": [
            "Olá mundo!\n"
          ]
        }
      ]
    },
    {
      "cell_type": "code",
      "source": [
        "print(10)"
      ],
      "metadata": {
        "id": "ARO5xM3psBZZ",
        "colab": {
          "base_uri": "https://localhost:8080/"
        },
        "outputId": "14a6af40-db6b-4abc-aae5-7b2b5373efa3"
      },
      "execution_count": 3,
      "outputs": [
        {
          "output_type": "stream",
          "name": "stdout",
          "text": [
            "10\n"
          ]
        }
      ]
    },
    {
      "cell_type": "code",
      "source": [
        "print('Mirla',23)"
      ],
      "metadata": {
        "id": "hdVBenEIsBOw",
        "colab": {
          "base_uri": "https://localhost:8080/"
        },
        "outputId": "a066bcb6-24df-4525-ef4e-07f50005e984"
      },
      "execution_count": 4,
      "outputs": [
        {
          "output_type": "stream",
          "name": "stdout",
          "text": [
            "Mirla 23\n"
          ]
        }
      ]
    },
    {
      "cell_type": "markdown",
      "source": [
        "# Manipulando dados\n",
        "\n",
        "Vamos aprender sobre as variáveis no python, como elas são declaradas e utilizadas além de conhecer outros comandos dentro do Python. :D"
      ],
      "metadata": {
        "id": "iP8uWQmFYFRs"
      }
    },
    {
      "cell_type": "markdown",
      "source": [
        "## Variáveis\n",
        "\n",
        "Em Data Science nós trabalhamos com vários dados e informações, então é essencial saber trabalhar com variáveis."
      ],
      "metadata": {
        "id": "sLNVmnTbag1Z"
      }
    },
    {
      "cell_type": "markdown",
      "source": [
        "Criamos uma variável no python através da atribuição de um valor a ela.\n",
        "\n",
        "Para fazer isso, colocamos o nome da variável um sinal de igual (`=`) e o valor que queremos atribuir"
      ],
      "metadata": {
        "id": "lsCY0wahAbf6"
      }
    },
    {
      "cell_type": "code",
      "source": [
        "idade = 5"
      ],
      "metadata": {
        "id": "HKuyZ08KAT4P"
      },
      "execution_count": 5,
      "outputs": []
    },
    {
      "cell_type": "code",
      "source": [
        "print(idade)"
      ],
      "metadata": {
        "id": "REfGSTfAslL0",
        "colab": {
          "base_uri": "https://localhost:8080/"
        },
        "outputId": "35053acf-f5f6-425f-8266-173fed5db532"
      },
      "execution_count": 6,
      "outputs": [
        {
          "output_type": "stream",
          "name": "stdout",
          "text": [
            "5\n"
          ]
        }
      ]
    },
    {
      "cell_type": "code",
      "source": [
        "idade = 10\n",
        "print(idade)"
      ],
      "metadata": {
        "id": "1AWO5GAspx1L",
        "colab": {
          "base_uri": "https://localhost:8080/"
        },
        "outputId": "e12a8121-665f-49d2-9bc0-79bfc8dcf490"
      },
      "execution_count": 7,
      "outputs": [
        {
          "output_type": "stream",
          "name": "stdout",
          "text": [
            "10\n"
          ]
        }
      ]
    },
    {
      "cell_type": "code",
      "source": [
        "idade = 15\n",
        "idade"
      ],
      "metadata": {
        "id": "YwJXL8uQpxtw",
        "colab": {
          "base_uri": "https://localhost:8080/"
        },
        "outputId": "37eaf47d-1856-4dd9-e441-4014e8af4631"
      },
      "execution_count": 8,
      "outputs": [
        {
          "output_type": "execute_result",
          "data": {
            "text/plain": [
              "15"
            ]
          },
          "metadata": {},
          "execution_count": 8
        }
      ]
    },
    {
      "cell_type": "code",
      "source": [
        "nome = 'Gabriel'\n",
        "nome"
      ],
      "metadata": {
        "id": "X2LltFDAsofy",
        "colab": {
          "base_uri": "https://localhost:8080/",
          "height": 35
        },
        "outputId": "46f4cf1b-e36c-4691-b572-2948e29770eb"
      },
      "execution_count": 9,
      "outputs": [
        {
          "output_type": "execute_result",
          "data": {
            "text/plain": [
              "'Gabriel'"
            ],
            "application/vnd.google.colaboratory.intrinsic+json": {
              "type": "string"
            }
          },
          "metadata": {},
          "execution_count": 9
        }
      ]
    },
    {
      "cell_type": "markdown",
      "source": [
        "Nomes que **não** podemos definir para variáveis:\n",
        "\n",
        "- **Nomes que começam com números**\n",
        "  - Exemplos: `10_notas`, `2_nomes_casa`, etc.\n",
        "- **Palavras separada por espaço**\n",
        "  - Exemplos: `Nome escola`, `notas estudantes`, etc.\n",
        "- **Nomes de funções do Python**\n",
        "  - Exemplos: `print`, `type`, etc."
      ],
      "metadata": {
        "id": "om2N0jHKAzwL"
      }
    },
    {
      "cell_type": "markdown",
      "source": [
        "> Letras maiúsculas e minúsculas vão gerar diferentes variáveis. A varíavel `idade` é diferente de `Idade` que por sua vez também é diferente de `IDADE`:\n",
        "``` Python\n",
        "idade = 1\n",
        "Idade = 2\n",
        "IDADE = 3\n",
        "_idade = 4\n",
        "_idade_ = 5\n",
        "print(idade, Idade, IDADE, _idade, _idade_)\n",
        "1 2 3 4 5\n",
        "```"
      ],
      "metadata": {
        "id": "A19vY2GVMujB"
      }
    },
    {
      "cell_type": "markdown",
      "source": [
        "## Tipos de variáveis\n",
        "\n",
        "Cada variável contém uma classe especifica quanto ao tipo de objeto que ela está se referenciando. Essas classes vão ser diferentes a partir do tipo de dado que nós atribuimos a uma variável.\n",
        "\n",
        "Para saber a classe de cada elemento usamos a função [`type()`](https://docs.python.org/3/library/functions.html#type)"
      ],
      "metadata": {
        "id": "UqhzuBhBHsps"
      }
    },
    {
      "cell_type": "code",
      "source": [
        "i = 5\n",
        "type(i)"
      ],
      "metadata": {
        "id": "rcTig6T0s0cD",
        "colab": {
          "base_uri": "https://localhost:8080/"
        },
        "outputId": "2c34a4e3-9930-48ad-9396-8a59a803c764"
      },
      "execution_count": 10,
      "outputs": [
        {
          "output_type": "execute_result",
          "data": {
            "text/plain": [
              "int"
            ]
          },
          "metadata": {},
          "execution_count": 10
        }
      ]
    },
    {
      "cell_type": "code",
      "source": [
        "f = 9.8\n",
        "type(f)"
      ],
      "metadata": {
        "id": "Hzxl4ziTp2UR",
        "colab": {
          "base_uri": "https://localhost:8080/"
        },
        "outputId": "e1e80730-bd0b-4bc6-ad32-453dcfdf64ad"
      },
      "execution_count": 11,
      "outputs": [
        {
          "output_type": "execute_result",
          "data": {
            "text/plain": [
              "float"
            ]
          },
          "metadata": {},
          "execution_count": 11
        }
      ]
    },
    {
      "cell_type": "code",
      "source": [
        "s = 'Mirla'\n",
        "type(s)"
      ],
      "metadata": {
        "id": "rc93oYlmp4Pg",
        "colab": {
          "base_uri": "https://localhost:8080/"
        },
        "outputId": "bd4cbd73-9e9c-4716-ed8f-0d71f4c1085a"
      },
      "execution_count": 12,
      "outputs": [
        {
          "output_type": "execute_result",
          "data": {
            "text/plain": [
              "str"
            ]
          },
          "metadata": {},
          "execution_count": 12
        }
      ]
    },
    {
      "cell_type": "code",
      "source": [
        "b = True\n",
        "type(b)"
      ],
      "metadata": {
        "id": "jf_XhutSp4HI",
        "colab": {
          "base_uri": "https://localhost:8080/"
        },
        "outputId": "c1559e09-8c12-4e01-e146-ac95ba2daf42"
      },
      "execution_count": 13,
      "outputs": [
        {
          "output_type": "execute_result",
          "data": {
            "text/plain": [
              "bool"
            ]
          },
          "metadata": {},
          "execution_count": 13
        }
      ]
    },
    {
      "cell_type": "markdown",
      "source": [
        "Em um conjunto de dados escolares podemos ter vários tipos de informações. Digamos que tenhamos acesso à ficha de dados do aluno *Frabicio Daniel* como transformamos ela em variáveis no Python?\n",
        "\n",
        "#### Ficha:\n",
        "\n",
        "- Nome: Fabricio Daniel\n",
        "- Idade: 15 anos\n",
        "- Media do semestre: 8,45\n",
        "- Situação de aprovação: Verdadeira (aprovado)"
      ],
      "metadata": {
        "id": "O-FxDumfWu0C"
      }
    },
    {
      "cell_type": "code",
      "source": [
        "nome_aluno = 'Fabricio Daniel'\n",
        "idade_aluno = 15\n",
        "media_aluno = 8.45\n",
        "situacao_aprovado = True\n",
        "print(nome_aluno,idade_aluno,media_aluno,situacao_aprovado)"
      ],
      "metadata": {
        "colab": {
          "base_uri": "https://localhost:8080/"
        },
        "id": "Z0kvl5mivYFK",
        "outputId": "f462e9a7-c93d-471a-893f-b05ea2216c1e"
      },
      "execution_count": 14,
      "outputs": [
        {
          "output_type": "stream",
          "name": "stdout",
          "text": [
            "Fabricio Daniel 15 8.45 True\n"
          ]
        }
      ]
    },
    {
      "cell_type": "markdown",
      "source": [
        "## Variáveis numéricas\n",
        "\n",
        "Entre os tipos de dados numéricos vamos nos focar no tipo `inteiro` e `float`."
      ],
      "metadata": {
        "id": "KFq_8Sxf-OG0"
      }
    },
    {
      "cell_type": "markdown",
      "source": [
        "Temos uma tabela de informação de empregos quanto ao cargo, quantidade de pessoas empregadas e o salário correspondente:\n",
        "\n",
        "|Cargo | Quantidade | Salário|\n",
        "|---|---|---|\n",
        "|Segurança | 5 | 3000 |\n",
        "|Docente | 16| 6000|\n",
        "|Diretoria| 1 |12500|\n",
        "\n",
        "Precisamos trabalhar com esses dados fornecendo:\n",
        "\n",
        "- A quantidade total de empregados;\n",
        "- A diferença entre o salário mais baixo e mais alto; e\n",
        "- A média ponderada da faixa salarial da escola."
      ],
      "metadata": {
        "id": "8_HYUbkVYdQY"
      }
    },
    {
      "cell_type": "code",
      "source": [
        "q_seguranca = 5\n",
        "s_seguranca = 3000\n",
        "\n",
        "q_docente = 16\n",
        "s_docente = 6000\n",
        "\n",
        "q_diretoria = 1\n",
        "s_diretoria = 12500"
      ],
      "metadata": {
        "id": "xJIq5MRRZAlj"
      },
      "execution_count": 15,
      "outputs": []
    },
    {
      "cell_type": "code",
      "source": [
        "total_empregados = q_seguranca + q_docente + q_diretoria\n",
        "total_empregados"
      ],
      "metadata": {
        "id": "9fgC9DcEsdl_",
        "colab": {
          "base_uri": "https://localhost:8080/"
        },
        "outputId": "b9dcb4f4-b742-4a35-a994-1b88aeed6518"
      },
      "execution_count": 16,
      "outputs": [
        {
          "output_type": "execute_result",
          "data": {
            "text/plain": [
              "22"
            ]
          },
          "metadata": {},
          "execution_count": 16
        }
      ]
    },
    {
      "cell_type": "code",
      "source": [
        "diferenca_salario =  s_diretoria - s_seguranca\n",
        "diferenca_salario"
      ],
      "metadata": {
        "id": "08-3SGnXsfOA",
        "colab": {
          "base_uri": "https://localhost:8080/"
        },
        "outputId": "9fd89b9a-7d23-43e5-f0f5-a2f11f65ecc1"
      },
      "execution_count": 17,
      "outputs": [
        {
          "output_type": "execute_result",
          "data": {
            "text/plain": [
              "9500"
            ]
          },
          "metadata": {},
          "execution_count": 17
        }
      ]
    },
    {
      "cell_type": "code",
      "source": [
        "media = (q_seguranca*s_seguranca + q_docente*s_docente + q_diretoria*s_diretoria) / (total_empregados)\n",
        "media"
      ],
      "metadata": {
        "id": "BrS-fXm_scvt",
        "colab": {
          "base_uri": "https://localhost:8080/"
        },
        "outputId": "86b1886c-da3e-4678-a8e1-f43f38da82b9"
      },
      "execution_count": 18,
      "outputs": [
        {
          "output_type": "execute_result",
          "data": {
            "text/plain": [
              "5613.636363636364"
            ]
          },
          "metadata": {},
          "execution_count": 18
        }
      ]
    },
    {
      "cell_type": "markdown",
      "source": [
        "## Strings"
      ],
      "metadata": {
        "id": "yQy7b0ZWoD-P"
      }
    },
    {
      "cell_type": "markdown",
      "source": [
        "Strings são caracterizada por ter um conjunto de caracteres formando um texto.\n",
        "\n",
        "Strigs podem ser criadas ao atribuirmos a uma variável um dado que esteja entre aspas simples (`'`) ou aspas duplas (`\"`)"
      ],
      "metadata": {
        "id": "vlo2-DXusv3s"
      }
    },
    {
      "cell_type": "code",
      "source": [
        "s1 = 'Alura'\n",
        "s2 = \"Alura\"\n",
        "print(type(s1),type(s2))"
      ],
      "metadata": {
        "id": "2rN0DDdfslbI",
        "colab": {
          "base_uri": "https://localhost:8080/"
        },
        "outputId": "3646dd13-19b2-40fe-935b-311ed06715db"
      },
      "execution_count": 19,
      "outputs": [
        {
          "output_type": "stream",
          "name": "stdout",
          "text": [
            "<class 'str'> <class 'str'>\n"
          ]
        }
      ]
    },
    {
      "cell_type": "markdown",
      "source": [
        "As variáveis textuais contém vários métodos que nos ajudam a formatar strings. Métódos podem ser executados ao definirmos um objeto seguindo a seguinte estrutura:\n",
        "\n",
        "```\n",
        "objeto.metodo()\n",
        "```\n",
        "\n",
        "Existem métodos que não necessitam dos `()`, é preciso verificar a documentação de cada caso."
      ],
      "metadata": {
        "id": "2e9UD_CCxqz_"
      }
    },
    {
      "cell_type": "markdown",
      "source": [
        "---\n",
        "**Situação:**\n",
        "\n",
        "Recebemos uma variável com o nome de uma professora da escola para inserimos no cadastro. No entanto, precisamos tratar esse texto antes de inserirmos no sistema"
      ],
      "metadata": {
        "id": "p6aPmMGP4tf9"
      }
    },
    {
      "cell_type": "code",
      "source": [
        "texto = '  Geovana Alessandra dias Sanyos '"
      ],
      "metadata": {
        "id": "4tkS8Iit1Ccg"
      },
      "execution_count": 20,
      "outputs": []
    },
    {
      "cell_type": "markdown",
      "source": [
        "O objetivo final é que o nome esteja da seguinte forma:\n",
        "\n",
        "```\n",
        "'GEOVANA ALESSANDRA DIAS SANTOS'\n",
        "```"
      ],
      "metadata": {
        "id": "Dg2ZXSZOGzjC"
      }
    },
    {
      "cell_type": "markdown",
      "source": [
        "### [`str.upper()` ](https://docs.python.org/3/library/stdtypes.html#str.upper)\n",
        "Converte uma string para maiúsculas"
      ],
      "metadata": {
        "id": "iVTAD8q702eN"
      }
    },
    {
      "cell_type": "code",
      "source": [
        "texto.upper()"
      ],
      "metadata": {
        "id": "QXo-rc_6z-0R",
        "colab": {
          "base_uri": "https://localhost:8080/",
          "height": 35
        },
        "outputId": "cc6730cc-4614-4a33-8faa-5923606e5e21"
      },
      "execution_count": 21,
      "outputs": [
        {
          "output_type": "execute_result",
          "data": {
            "text/plain": [
              "'  GEOVANA ALESSANDRA DIAS SANYOS '"
            ],
            "application/vnd.google.colaboratory.intrinsic+json": {
              "type": "string"
            }
          },
          "metadata": {},
          "execution_count": 21
        }
      ]
    },
    {
      "cell_type": "markdown",
      "source": [
        "### [`str.lower()`](https://docs.python.org/3/library/stdtypes.html#str.lower)\n",
        "Método converte uma string para minúsculas."
      ],
      "metadata": {
        "id": "hbDSBtMV1TpG"
      }
    },
    {
      "cell_type": "code",
      "source": [
        "texto.lower()"
      ],
      "metadata": {
        "id": "sfzZHgX50CTe",
        "colab": {
          "base_uri": "https://localhost:8080/",
          "height": 35
        },
        "outputId": "2263e45b-ef27-4bf8-f9f7-64b50e847d72"
      },
      "execution_count": 22,
      "outputs": [
        {
          "output_type": "execute_result",
          "data": {
            "text/plain": [
              "'  geovana alessandra dias sanyos '"
            ],
            "application/vnd.google.colaboratory.intrinsic+json": {
              "type": "string"
            }
          },
          "metadata": {},
          "execution_count": 22
        }
      ]
    },
    {
      "cell_type": "markdown",
      "source": [
        "### [`str.strip()`](https://docs.python.org/3/library/stdtypes.html#str.strip)\n",
        "Método remove os espaços em branco do início e do fim de uma string."
      ],
      "metadata": {
        "id": "kz47eWM11gii"
      }
    },
    {
      "cell_type": "code",
      "source": [
        "texto.strip()"
      ],
      "metadata": {
        "id": "rrOEbuNR0D0a",
        "colab": {
          "base_uri": "https://localhost:8080/",
          "height": 35
        },
        "outputId": "bcd364e7-5386-444a-ba80-ee72c2729919"
      },
      "execution_count": 23,
      "outputs": [
        {
          "output_type": "execute_result",
          "data": {
            "text/plain": [
              "'Geovana Alessandra dias Sanyos'"
            ],
            "application/vnd.google.colaboratory.intrinsic+json": {
              "type": "string"
            }
          },
          "metadata": {},
          "execution_count": 23
        }
      ]
    },
    {
      "cell_type": "markdown",
      "source": [
        "### [`str.replace(antigo, novo)`](https://docs.python.org/3/library/stdtypes.html#str.replace)\n",
        "\n",
        "Método substitui todas as ocorrências do texto \"antigo\" na string por \"novo\""
      ],
      "metadata": {
        "id": "m6notiyS1SCV"
      }
    },
    {
      "cell_type": "code",
      "source": [
        "texto.replace('y','t')"
      ],
      "metadata": {
        "id": "N9EqhYtP0GY2",
        "colab": {
          "base_uri": "https://localhost:8080/",
          "height": 35
        },
        "outputId": "d092a008-c2a8-4ec8-92fa-8544f770403b"
      },
      "execution_count": 24,
      "outputs": [
        {
          "output_type": "execute_result",
          "data": {
            "text/plain": [
              "'  Geovana Alessandra dias Santos '"
            ],
            "application/vnd.google.colaboratory.intrinsic+json": {
              "type": "string"
            }
          },
          "metadata": {},
          "execution_count": 24
        }
      ]
    },
    {
      "cell_type": "markdown",
      "source": [
        "### Observações\n",
        "\n",
        "1. Os métodos retornam uma **tranformação**, não a executam no texto!\n",
        "\n",
        "2. Além disso, podemos acumular a execução de métodos."
      ],
      "metadata": {
        "id": "zukvEjhG2Rcn"
      }
    },
    {
      "cell_type": "code",
      "source": [
        "texto"
      ],
      "metadata": {
        "id": "OL4bTf8F0LBc",
        "colab": {
          "base_uri": "https://localhost:8080/",
          "height": 35
        },
        "outputId": "afe99b4a-c84f-42af-b8a7-a9043072d75c"
      },
      "execution_count": 25,
      "outputs": [
        {
          "output_type": "execute_result",
          "data": {
            "text/plain": [
              "'  Geovana Alessandra dias Sanyos '"
            ],
            "application/vnd.google.colaboratory.intrinsic+json": {
              "type": "string"
            }
          },
          "metadata": {},
          "execution_count": 25
        }
      ]
    },
    {
      "cell_type": "markdown",
      "source": [
        "Para que seja executada a transformação nós podemos atribuir às saídas das transformações à variável"
      ],
      "metadata": {
        "id": "1KbwfVut2h6I"
      }
    },
    {
      "cell_type": "code",
      "source": [
        "texto = texto.strip().replace('y','t').upper()\n",
        "texto"
      ],
      "metadata": {
        "id": "CITYq50i0OlA",
        "colab": {
          "base_uri": "https://localhost:8080/",
          "height": 35
        },
        "outputId": "21b271e4-c5e3-4423-e31d-8ca6bde59059"
      },
      "execution_count": 26,
      "outputs": [
        {
          "output_type": "execute_result",
          "data": {
            "text/plain": [
              "'GEOVANA ALESSANDRA DIAS SANTOS'"
            ],
            "application/vnd.google.colaboratory.intrinsic+json": {
              "type": "string"
            }
          },
          "metadata": {},
          "execution_count": 26
        }
      ]
    },
    {
      "cell_type": "markdown",
      "source": [
        "## Coletando dados\n",
        "\n",
        "Em algumas aplicações precisamos coletar valores da pessoa usuária do nosso projeto. Em python conseguimos coletar dados de usuário através do comando [`input()`](https://docs.python.org/3/library/functions.html#input).\n",
        "\n",
        "Para fazer essa coleta podemos atribuir essa função à uma variável."
      ],
      "metadata": {
        "id": "0h9Fh5G9kHCa"
      }
    },
    {
      "cell_type": "code",
      "source": [
        "nome = input('Escreva seu nome: ')"
      ],
      "metadata": {
        "id": "Ofz0nkHZpKpL",
        "colab": {
          "base_uri": "https://localhost:8080/"
        },
        "outputId": "9643114e-08ae-4b57-9fd3-49f097fb103c"
      },
      "execution_count": 27,
      "outputs": [
        {
          "name": "stdout",
          "output_type": "stream",
          "text": [
            "Escreva seu nome: tainah\n"
          ]
        }
      ]
    },
    {
      "cell_type": "code",
      "source": [
        "nome"
      ],
      "metadata": {
        "id": "txSw1joTpKiH",
        "colab": {
          "base_uri": "https://localhost:8080/",
          "height": 35
        },
        "outputId": "5ddd4384-c454-4986-9f22-7daf22372494"
      },
      "execution_count": 28,
      "outputs": [
        {
          "output_type": "execute_result",
          "data": {
            "text/plain": [
              "'tainah'"
            ],
            "application/vnd.google.colaboratory.intrinsic+json": {
              "type": "string"
            }
          },
          "metadata": {},
          "execution_count": 28
        }
      ]
    },
    {
      "cell_type": "markdown",
      "source": [
        "O retorno desse comando sempre será uma *string*. Isso quer dizer que mesmo que façamos uma coleta de algo que deva ser numérico, ele será uma string.\n",
        "\n",
        "Então, será preciso **converter o resultado caso não seja desejável obter uma string**."
      ],
      "metadata": {
        "id": "7z7hcLCk_aCY"
      }
    },
    {
      "cell_type": "markdown",
      "source": [
        "Existem funções para conversão de valores:\n",
        "\n",
        "- Inteiros: [`int(dado_para_conversao)`](https://docs.python.org/3/library/functions.html#int)\n",
        "- Float: [`float(dado_para_conversao)`](https://docs.python.org/3/library/functions.html#float)\n",
        "- String: [`str(dado_para_conversao)`](https://docs.python.org/3/library/functions.html#func-str)\n",
        "- Booleano: [`bool(dado_para_conversao)`](https://docs.python.org/3/library/functions.html#bool)"
      ],
      "metadata": {
        "id": "TOlegATj1Jfp"
      }
    },
    {
      "cell_type": "code",
      "source": [
        "ano_entrada = input('Escreva o ano de ingresso do(a) estudante: ')"
      ],
      "metadata": {
        "id": "9nYEWZCq1F4-",
        "colab": {
          "base_uri": "https://localhost:8080/"
        },
        "outputId": "45398313-4b5f-44ff-b124-6307d6f7f2ce"
      },
      "execution_count": 29,
      "outputs": [
        {
          "name": "stdout",
          "output_type": "stream",
          "text": [
            "Escreva o ano de ingresso do(a) estudante: 2015\n"
          ]
        }
      ]
    },
    {
      "cell_type": "code",
      "source": [
        "type(ano_entrada)"
      ],
      "metadata": {
        "id": "KOHCyzzt1FkE",
        "colab": {
          "base_uri": "https://localhost:8080/"
        },
        "outputId": "67b1afc2-5026-4210-f089-4b0b9c740715"
      },
      "execution_count": 30,
      "outputs": [
        {
          "output_type": "execute_result",
          "data": {
            "text/plain": [
              "str"
            ]
          },
          "metadata": {},
          "execution_count": 30
        }
      ]
    },
    {
      "cell_type": "code",
      "source": [
        "ano_entrada = int(input('Escreva o ano de ingresso do(a) estudante: '))"
      ],
      "metadata": {
        "id": "I-jRBY2m1FZU",
        "colab": {
          "base_uri": "https://localhost:8080/"
        },
        "outputId": "f217434b-1f4c-4c20-9a42-516810692a52"
      },
      "execution_count": 31,
      "outputs": [
        {
          "name": "stdout",
          "output_type": "stream",
          "text": [
            "Escreva o ano de ingresso do(a) estudante: 2025\n"
          ]
        }
      ]
    },
    {
      "cell_type": "code",
      "source": [
        "type(ano_entrada)"
      ],
      "metadata": {
        "id": "kjLT81mN1FQW",
        "colab": {
          "base_uri": "https://localhost:8080/"
        },
        "outputId": "98a93b64-b6ee-455b-de84-a1df168e3bc5"
      },
      "execution_count": 32,
      "outputs": [
        {
          "output_type": "execute_result",
          "data": {
            "text/plain": [
              "int"
            ]
          },
          "metadata": {},
          "execution_count": 32
        }
      ]
    },
    {
      "cell_type": "markdown",
      "source": [
        "Buscaremos apresentar melhor agora o resultado que obtivemos da transformação. Nós conseguimos formatar e apresentar o nosso resultado misturando strings com valores não textuais.\n",
        "\n",
        "Para fazer isso usamos a estrutura de formatação `f` com strings."
      ],
      "metadata": {
        "id": "yNI2-XTbB3aS"
      }
    },
    {
      "cell_type": "code",
      "source": [
        "nota_entrada = float(input('Digite a nota do teste de ingresso: '))\n",
        "print(f'Ano de entrada {ano_entrada} - nota do teste de ingresso {nota_entrada}')"
      ],
      "metadata": {
        "id": "jXOHqai9prrq",
        "colab": {
          "base_uri": "https://localhost:8080/"
        },
        "outputId": "463157ca-2a80-478f-ddac-638511948d4a"
      },
      "execution_count": 33,
      "outputs": [
        {
          "output_type": "stream",
          "name": "stdout",
          "text": [
            "Digite a nota do teste de ingresso: 3\n",
            "Ano de entrada 2025 - nota do teste de ingresso 3.0\n"
          ]
        }
      ]
    },
    {
      "cell_type": "markdown",
      "source": [
        "# Estruturas condicionais"
      ],
      "metadata": {
        "id": "NwRaiHHHhhyl"
      }
    },
    {
      "cell_type": "markdown",
      "source": [
        "## `IF` e `ELSE`\n",
        "\n",
        "O `if` e `else` são duas estruturas condicionais. O `if` executará o bloco de comando caso a condição colocada for **verdadeira**. O `else` é um caso em que a condicional de `if` seja **falsa**."
      ],
      "metadata": {
        "id": "qXZqg9aYEhAh"
      }
    },
    {
      "cell_type": "markdown",
      "source": [
        "O `if` é uma palavra-chave em Python que significa \"se\". Ele é usado para formar uma estrutura condicional, que permite que você verifique se uma determinada condição é verdadeira ou falsa e, em seguida, execute um bloco de código específico dependendo do resultado da verificação. A sintaxe para usar o `if` é:\n",
        "\n",
        "\n",
        "\n",
        "```\n",
        "if condição:\n",
        "    # faça algo\n",
        "```\n",
        "\n"
      ],
      "metadata": {
        "id": "EIhlqHXd2Gil"
      }
    },
    {
      "cell_type": "code",
      "source": [],
      "metadata": {
        "id": "tKtzkTXW4j73"
      },
      "execution_count": 33,
      "outputs": []
    },
    {
      "cell_type": "markdown",
      "source": [
        "Já o `else` em Python é usada em conjunto com a palavra-chave `if` para formar uma estrutura condicional. A sintaxe para usar o `else` é:\n",
        "\n",
        "```\n",
        "if condição:\n",
        "  # código caso seja verdade\n",
        "else:\n",
        "  # código caso seja falso\n",
        "```\n",
        "\n",
        "O `else` é executado quando a condição verificada pelo `if` é avaliada como `False`."
      ],
      "metadata": {
        "id": "27RW2v_sIKct"
      }
    },
    {
      "cell_type": "markdown",
      "source": [
        "---\n",
        "**Situação:**\n",
        "\n",
        "Receberemos a média de estudantes e precisamos de um algoritmo que execute a análise e decida se esse estudante está **Aprovado** ou Reprovado, mostrando uma mensagem do resultado. Para ser aprovado, a média precisa ser igual ou superior à 6.0."
      ],
      "metadata": {
        "id": "BqORg85XX-Nl"
      }
    },
    {
      "cell_type": "code",
      "source": [
        "media = float(input('Digite a média: '))"
      ],
      "metadata": {
        "id": "yaR8bt1P4iCv",
        "colab": {
          "base_uri": "https://localhost:8080/"
        },
        "outputId": "19ec6069-6a31-4a84-b5d0-93839d65ba8e"
      },
      "execution_count": 34,
      "outputs": [
        {
          "name": "stdout",
          "output_type": "stream",
          "text": [
            "Digite a média: 6\n"
          ]
        }
      ]
    },
    {
      "cell_type": "markdown",
      "source": [
        "Agora a nossa instituição de ensino lançou uma nota oficial que pessoas que tenham média entre 4.0 e 6.0 podem fazer os cursos de **Recuperação** nas férias para poder recuperar a nota.\n",
        "\n",
        "Então podemos agora fazer um conjunto de `if`s para que possamos estruturar essa nova condição."
      ],
      "metadata": {
        "id": "bD9O17HB6LUo"
      }
    },
    {
      "cell_type": "code",
      "source": [
        "media = float(input('Digite a média: '))"
      ],
      "metadata": {
        "id": "Rkde8bai4gvq",
        "colab": {
          "base_uri": "https://localhost:8080/"
        },
        "outputId": "6c8200c9-050a-490b-a359-d7dcbd5c68c9"
      },
      "execution_count": 35,
      "outputs": [
        {
          "name": "stdout",
          "output_type": "stream",
          "text": [
            "Digite a média: 6\n"
          ]
        }
      ]
    },
    {
      "cell_type": "markdown",
      "source": [
        "Notemos que em casos com 3 situações como esse precisamos definir bem nossas condições. Pois foi feita uma construção com `else` no final, ele irá considerar apenas a alguma condicional para ser o caso **falso** podendo resultar em duas (ou mais) execuções.\n",
        "\n",
        "Por exemplo:"
      ],
      "metadata": {
        "id": "D5e2mByjvycO"
      }
    },
    {
      "cell_type": "code",
      "source": [
        "media = float(input('Digite a média: '))"
      ],
      "metadata": {
        "id": "tKvjzq414fAN",
        "colab": {
          "base_uri": "https://localhost:8080/"
        },
        "outputId": "31664de7-9f5c-4330-cf20-f3baff4413d9"
      },
      "execution_count": 36,
      "outputs": [
        {
          "name": "stdout",
          "output_type": "stream",
          "text": [
            "Digite a média: 6\n"
          ]
        }
      ]
    },
    {
      "cell_type": "markdown",
      "source": [
        "## `ELIF`\n",
        "\n",
        "O `elif` é uma palavra-chave em Python que significa \"senão, se\" e pode ser considerado uma união do `else` com um `if`. Ela é usada em conjunto com a palavra-chave `if` para formar uma estrutura condicional encadeada.\n",
        "\n"
      ],
      "metadata": {
        "id": "04T5g-7h4zWx"
      }
    },
    {
      "cell_type": "markdown",
      "source": [
        "A sintaxe para usar o `elif` é:\n",
        "\n",
        "```\n",
        "if condição1:\n",
        "    # faça algo\n",
        "elif condição2:\n",
        "    # faça outra coisa\n",
        "elif condição3:\n",
        "    # faça mais alguma coisa\n",
        "else:\n",
        "    # faça algo diferente\n",
        "```\n",
        "\n",
        "O `elif` permite que você verifique várias condições de forma encadeada, economizando espaço em seu código. Se a primeira condição for avaliada como `False`, o interpretador Python avaliará a próxima condição no `elif`. Isso continuará até que uma condição seja avaliada como `True` ou até que o `else` seja atingido. Se nenhuma das condições forem avaliadas como `True`, a execução do código do `else` será iniciada."
      ],
      "metadata": {
        "id": "rNBHr5mm1Lm6"
      }
    },
    {
      "cell_type": "markdown",
      "source": [
        "Vamos usar o mesmo caso anterior:"
      ],
      "metadata": {
        "id": "MVoykFbB4bd4"
      }
    },
    {
      "cell_type": "code",
      "source": [
        "media = float(input('Digite a média: '))"
      ],
      "metadata": {
        "id": "UJCHKoX54dc2",
        "colab": {
          "base_uri": "https://localhost:8080/"
        },
        "outputId": "6f0e0e2d-0f29-4bc6-e733-017251c8dbc1"
      },
      "execution_count": 37,
      "outputs": [
        {
          "name": "stdout",
          "output_type": "stream",
          "text": [
            "Digite a média: 7\n"
          ]
        }
      ]
    },
    {
      "cell_type": "markdown",
      "source": [
        "## Operadores\n",
        "\n",
        "Durante a construção de comandos por vezes precisamos de uma elaboração maior de da expressão condicional, necessitando que alguns operadores lógicos estejam integrados."
      ],
      "metadata": {
        "id": "Tf1wSOem6iwZ"
      }
    },
    {
      "cell_type": "markdown",
      "source": [
        "### `AND`, `OR`, `NOT`\n",
        "\n",
        "Os operadores lógicos `and`, `or` e `not` são usados para combinar expressões lógicas em Python. Eles são usados frequentemente em conjunto com o `if` para criar estruturas condicionais mais complexas.\n"
      ],
      "metadata": {
        "id": "GFIZnRWXGPWO"
      }
    },
    {
      "cell_type": "markdown",
      "source": [
        "- `AND` é usado para verificar se duas condições são verdadeiras. A expressão lógica¹ `x and y` é avaliada como `True` apenas se **ambas as condições `x` e `y` forem verdadeiras**, e como `False` caso contrário.\n",
        "\n",
        "- `OR` é usado para verificar se pelo menos uma das condições é verdadeira. A expressão lógica `x or y` é avaliada como `True` **se pelo menos uma das condições `x` ou `y` for verdadeira**, e como `False` se ambas forem falsas.\n",
        "\n",
        "- `NOT` é usado para **negar uma condição**. A expressão lógica not x é avaliada como True se a condição x for falsa, e como False se a condição x for verdadeira.\n",
        "\n",
        "¹ Uma expressão lógica é uma declaração que pode ser avaliada como verdadeira ou falsa. Ela é composta por operandos lógicos² e operadores lógicos³, que são usados ​​para combinar várias expressões lógicas em uma única expressão.\n",
        "\n",
        "² Os operandos lógicos são os elementos que são comparados ou avaliados em uma expressão lógica. Eles são geralmente valores verdadeiros ou falsos, mas também podem ser expressões lógicas mais complexas. Em Python, os operandos lógicos são os valores `True` e `False`.\n",
        "\n",
        "³ Os operadores lógicos são os símbolos ou palavras-chave que são usados ​​para combinar várias expressões lógicas em uma única expressão. Em Python, os operadores lógicos são `and`, `or` e `not`, bem como as palavras-chave `if`, `elif` e `else`."
      ],
      "metadata": {
        "id": "Z_dgAoHXJbzB"
      }
    },
    {
      "cell_type": "code",
      "source": [],
      "metadata": {
        "id": "Fs_qb0dLOXsj"
      },
      "execution_count": 37,
      "outputs": []
    },
    {
      "cell_type": "markdown",
      "source": [
        "### `IN`\n",
        "\n",
        "É usado para verificar se um elemento está presente em uma lista, tupla ou outra variável de conjunto. A expressão `x in y` é avaliada como `True` se o elemento `x` estiver presente na variável de conjunto `y`, e como `False` caso contrário."
      ],
      "metadata": {
        "id": "w7EXG1dhWtja"
      }
    },
    {
      "cell_type": "markdown",
      "source": [
        "Podemos verificar isso com variáveis de texto.\n",
        "\n",
        "---\n",
        "\n",
        "**Situação:**\n",
        "\n",
        "Na escola foi passada uma lista com nomes de estudantes que foram aprovados por média no semestre, mas é preciso verificar se alguns nomes estão nessa lista para verificar se os dados estão corretos.\n",
        "\n",
        "A lista distribuida pode ser observada abaixo:\n",
        "\n",
        "```\n",
        "lista = 'José da Silva, Maria Oliveira, Pedro Martins, Ana Souza, Carlos Rodrigues, Juliana Santos, Bruno Gomes, Beatriz Costa, Felipe Almeida, Mariana Fernandes, João Pinto, Luísa Nascimento, Gabriel Souza, Manuela Santos, Thiago Oliveira, Sofia Ferreira, Rafael Albuquerque, Isabella Gomes, Bruno Costa, Maria Martins, Rafaela Souza, Matheus Fernandes, Luísa Almeida, Beatriz Pinto, Mariana Rodrigues, Gabriel Nascimento, João Ferreira, Maria Albuquerque, Felipe Oliveira\n",
        "'\n",
        "```\n",
        "\n",
        "Os nomes que precisam ser verificados são os seguintes:\n",
        "\n",
        "```\n",
        "nome_1 = 'Mariana Rodrigues'\n",
        "nome_2 = 'Marcelo Nogueira'\n",
        "```"
      ],
      "metadata": {
        "id": "enJNp6JenQbq"
      }
    },
    {
      "cell_type": "code",
      "source": [
        "lista = 'José da Silva, Maria Oliveira, Pedro Martins, Ana Souza, Carlos Rodrigues, Juliana Santos, Bruno Gomes, Beatriz Costa, Felipe Almeida, Mariana Fernandes, João Pinto, Luísa Nascimento, Gabriel Souza, Manuela Santos, Thiago Oliveira, Sofia Ferreira, Rafael Albuquerque, Isabella Gomes, Bruno Costa, Maria Martins, Rafaela Souza, Matheus Fernandes, Luísa Almeida, Beatriz Pinto, Mariana Rodrigues, Gabriel Nascimento, João Ferreira, Maria Albuquerque, Felipe Oliveira'\n",
        "lista"
      ],
      "metadata": {
        "id": "kU25ABUQ5NBe",
        "colab": {
          "base_uri": "https://localhost:8080/",
          "height": 70
        },
        "outputId": "78955bb6-bdf7-474b-d2c6-6feab7341922"
      },
      "execution_count": 41,
      "outputs": [
        {
          "output_type": "execute_result",
          "data": {
            "text/plain": [
              "'José da Silva, Maria Oliveira, Pedro Martins, Ana Souza, Carlos Rodrigues, Juliana Santos, Bruno Gomes, Beatriz Costa, Felipe Almeida, Mariana Fernandes, João Pinto, Luísa Nascimento, Gabriel Souza, Manuela Santos, Thiago Oliveira, Sofia Ferreira, Rafael Albuquerque, Isabella Gomes, Bruno Costa, Maria Martins, Rafaela Souza, Matheus Fernandes, Luísa Almeida, Beatriz Pinto, Mariana Rodrigues, Gabriel Nascimento, João Ferreira, Maria Albuquerque, Felipe Oliveira'"
            ],
            "application/vnd.google.colaboratory.intrinsic+json": {
              "type": "string"
            }
          },
          "metadata": {},
          "execution_count": 41
        }
      ]
    },
    {
      "cell_type": "code",
      "source": [
        "nome_1 = 'Mariana Rodrigues'\n",
        "nome_2 = 'Marcelo Nogueira'"
      ],
      "metadata": {
        "id": "GY82qLpivC6Y"
      },
      "execution_count": 42,
      "outputs": []
    },
    {
      "cell_type": "code",
      "source": [],
      "metadata": {
        "id": "ipyXfbpb37b0"
      },
      "execution_count": null,
      "outputs": []
    },
    {
      "cell_type": "code",
      "source": [],
      "metadata": {
        "id": "KfXxC9A537RP"
      },
      "execution_count": null,
      "outputs": []
    },
    {
      "cell_type": "markdown",
      "source": [
        "# Estruturas de repetição"
      ],
      "metadata": {
        "id": "aL1vJPewvwvz"
      }
    },
    {
      "cell_type": "markdown",
      "source": [
        "Quando temos que executar um mesmo bloco de comandos por várias vezes não é muito interessante fazer isso à mão.\n",
        "\n",
        "Imaginemos a situação de termos que coletar e imprimir a média de duas notas de **3 estudantes**:"
      ],
      "metadata": {
        "id": "VcPfCa8d-84t"
      }
    },
    {
      "cell_type": "code",
      "source": [
        "nota_1 = float(input('Digite a 1° nota: '))\n",
        "nota_2 = float(input('Digite a 2° nota: '))\n",
        "\n",
        "print(f'Média: {(nota_1+nota_2)/2}')"
      ],
      "metadata": {
        "id": "LzPyN4Ad3qwy",
        "colab": {
          "base_uri": "https://localhost:8080/"
        },
        "outputId": "a0fe5ff7-47e7-47a0-cb38-961ad9e16ae1"
      },
      "execution_count": 43,
      "outputs": [
        {
          "output_type": "stream",
          "name": "stdout",
          "text": [
            "Digite a 1° nota: 3\n",
            "Digite a 2° nota: 4\n",
            "Média: 3.5\n"
          ]
        }
      ]
    },
    {
      "cell_type": "markdown",
      "source": [
        "Agora imaginemos uma situação em que não são apenas 3 estudantes, mas sim 100 estudantes. Não seria interessante repetir o mesmo código por 100 vezes, mas sim **executar o mesmo código 100 vezes**.\n",
        "\n",
        "Essa repetição conseguimos construir com laços de repetição!"
      ],
      "metadata": {
        "id": "9puIuvUbFSFX"
      }
    },
    {
      "cell_type": "markdown",
      "source": [
        "## `WHILE`"
      ],
      "metadata": {
        "id": "uLO9-aE4-wx8"
      }
    },
    {
      "cell_type": "markdown",
      "source": [
        "O laço `while` é uma estrutura de controle de repetição em Python que permite executar um bloco de código repetidamente enquanto uma determinada condição é verdadeira. Sua estrutura é:\n",
        "\n",
        "\n",
        "\n",
        "```\n",
        "while condição:\n",
        "    # bloco de código\n",
        "```\n",
        "\n",
        "Vamos construir um exemplo com um contador de 1 até 10.\n"
      ],
      "metadata": {
        "id": "rXZxDMiqHxm9"
      }
    },
    {
      "cell_type": "code",
      "source": [
        "contador = 1\n",
        "while contador <= 10:\n",
        "  print(contador)\n",
        "  contador = contador + 1\n"
      ],
      "metadata": {
        "id": "6b_izu633j0O",
        "colab": {
          "base_uri": "https://localhost:8080/"
        },
        "outputId": "3d08244f-55cb-43ef-f1ee-11f9b4a51e62"
      },
      "execution_count": 44,
      "outputs": [
        {
          "output_type": "stream",
          "name": "stdout",
          "text": [
            "1\n",
            "2\n",
            "3\n",
            "4\n",
            "5\n",
            "6\n",
            "7\n",
            "8\n",
            "9\n",
            "10\n"
          ]
        }
      ]
    },
    {
      "cell_type": "markdown",
      "source": [
        "Agora vamos coletar as notas e médias de cada aluno dentro do while. Faremos um exemplo com 3 médias."
      ],
      "metadata": {
        "id": "W4KZPBJuIrut"
      }
    },
    {
      "cell_type": "code",
      "source": [
        "\n",
        "contador = 1\n",
        "while contador <= 3:\n",
        "  nome = input(\"Digite o nome do aluno: \")\n",
        "  notas = []\n",
        "  for i in range(3):\n",
        "    nota = float(input(f\"Digite a {i+1}ª nota de {nome}: \"))\n",
        "    notas.append(nota)\n",
        "  media = sum(notas) / len(notas)\n",
        "  print(f\"As notas de {nome} foram: {notas}\")\n",
        "  print(f\"A média de {nome} é: {media}\")\n",
        "  contador += 1\n"
      ],
      "metadata": {
        "id": "aIeQ_CzW3jiP",
        "colab": {
          "base_uri": "https://localhost:8080/"
        },
        "outputId": "ee7e3162-7b37-4955-fc7c-1097e3cc292d"
      },
      "execution_count": 45,
      "outputs": [
        {
          "output_type": "stream",
          "name": "stdout",
          "text": [
            "Digite o nome do aluno: ana\n",
            "Digite a 1ª nota de ana: 3\n",
            "Digite a 2ª nota de ana: 6\n",
            "Digite a 3ª nota de ana: 5\n",
            "As notas de ana foram: [3.0, 6.0, 5.0]\n",
            "A média de ana é: 4.666666666666667\n",
            "Digite o nome do aluno: exu\n",
            "Digite a 1ª nota de exu: 7\n",
            "Digite a 2ª nota de exu: 14\n",
            "Digite a 3ª nota de exu: 21\n",
            "As notas de exu foram: [7.0, 14.0, 21.0]\n",
            "A média de exu é: 14.0\n",
            "Digite o nome do aluno: padilha\n",
            "Digite a 1ª nota de padilha: 15\n",
            "Digite a 2ª nota de padilha: 8\n",
            "Digite a 3ª nota de padilha: 6\n",
            "As notas de padilha foram: [15.0, 8.0, 6.0]\n",
            "A média de padilha é: 9.666666666666666\n"
          ]
        }
      ]
    },
    {
      "cell_type": "markdown",
      "source": [
        "## `FOR`"
      ],
      "metadata": {
        "id": "WgAIaENMMfCP"
      }
    },
    {
      "cell_type": "markdown",
      "source": [
        "O laço `for` é um tipo de estrutura de controle de fluxo em Python que permite iterar sobre um conjunto de elementos. A sua estrutura é:\n",
        "\n",
        "\n",
        "\n",
        "```\n",
        "for elemento in conjunto:\n",
        "    # código a ser executado para cada elemento\n",
        "```\n",
        "\n",
        "O laço for itera sobre cada elemento do conjunto especificado e executa o bloco de código dentro do laço para cada elemento. Quando o laço chega ao final do conjunto, ele é interrompido e o programa continua a execução após o laço.\n",
        "\n"
      ],
      "metadata": {
        "id": "HxrSZoRAMh-x"
      }
    },
    {
      "cell_type": "markdown",
      "source": [
        "O conjunto pode ser gerado com a função [`range()`](https://docs.python.org/3/library/functions.html#func-range). Que é uma função capaz de gerar uma sequência de números inteiros. A estrutura dessa função é:\n",
        "\n",
        "```\n",
        "range(inicio, fim, passo)\n",
        "```\n",
        "\n",
        "Segundo a documentação, o `range()` gera uma sequência de números inteiros a partir do valor do parâmetro `inicio` até o valor do parâmetro `fim`, de acordo com o valor do parâmetro `passo`. Se `inicio` não for especificado, o valor padrão é 0. Se `passo` não for especificado, o valor padrão é 1.\n",
        "\n",
        "\n"
      ],
      "metadata": {
        "id": "6VgjyoQtPHBM"
      }
    },
    {
      "cell_type": "markdown",
      "source": [
        "Vamos fazer o mesmo contador `while` agora com `for`."
      ],
      "metadata": {
        "id": "ryn0hfdlUwC8"
      }
    },
    {
      "cell_type": "code",
      "source": [],
      "metadata": {
        "id": "t6qcdPyP3YgZ"
      },
      "execution_count": null,
      "outputs": []
    },
    {
      "cell_type": "code",
      "source": [],
      "metadata": {
        "id": "KBeY8z573YWz"
      },
      "execution_count": null,
      "outputs": []
    },
    {
      "cell_type": "markdown",
      "source": [
        "# Estruturas de dados"
      ],
      "metadata": {
        "id": "8noP8OJ0Vhux"
      }
    },
    {
      "cell_type": "markdown",
      "source": [
        "Um conjunto de elementos é uma coleção de itens, que são armazenados juntos de maneira organizada. Alguns exemplos de conjuntos de elementos em Python são listas, strings e dicionários."
      ],
      "metadata": {
        "id": "xpEUkefTu8fY"
      }
    },
    {
      "cell_type": "markdown",
      "source": [
        "## Listas"
      ],
      "metadata": {
        "id": "THSg4KYLwxIb"
      }
    },
    {
      "cell_type": "markdown",
      "source": [
        "As listas podem armazenar uma coleção de itens em ordem. Eles são delimitados por colchetes `[]` e os itens são separados por vírgulas.\n",
        "\n",
        "Elas também podem armazenar qualquer tipo de item, incluindo números, strings, objetos e outras listas. Elas também podem armazenar itens de tipos de dados diferentes juntos em uma única lista."
      ],
      "metadata": {
        "id": "dzpsiqrOyJcK"
      }
    },
    {
      "cell_type": "code",
      "source": [
        "# Em Python, os colchetes [] são usados para definir listas.\n",
        "# Uma lista é uma estrutura de dados que pode armazenar uma sequência ordenada de itens.\n",
        "# Os itens em uma lista podem ser de qualquer tipo de dados, incluindo números, strings, outras listas, etc.\n",
        "# Os itens em uma lista são separados por vírgulas.\n",
        "\n",
        "# Exemplo de uma lista de números:\n",
        "numeros = [1, 2, 3, 4, 5]\n",
        "\n",
        "# Exemplo de uma lista de strings:\n",
        "nomes = [\"Alice\", \"Bob\", \"Charlie\"]\n",
        "\n",
        "# Exemplo de uma lista mista:\n",
        "lista_mista = [1, \"Olá\", 3.14, True, [10, 20]]\n",
        "\n",
        "# Acesso aos elementos:\n",
        "# Os elementos de uma lista podem ser acessados por seu índice, que começa em 0.\n",
        "print(numeros[0])  # Imprime 1\n",
        "print(nomes[1])  # Imprime \"Bob\"\n",
        "\n",
        "# Modificando elementos:\n",
        "# Os elementos de uma lista podem ser modificados atribuindo um novo valor a um índice específico.\n",
        "numeros[0] = 10\n",
        "print(numeros)  # Imprime [10, 2, 3, 4, 5]\n",
        "\n",
        "# Adicionando elementos:\n",
        "# Podemos usar o método append() para adicionar um elemento ao final da lista.\n",
        "numeros.append(6)\n",
        "print(numeros) # Imprime [10, 2, 3, 4, 5, 6]\n",
        "\n",
        "# Removendo elementos:\n",
        "# Podemos usar o método remove() para remover um elemento da lista.\n",
        "numeros.remove(2)\n",
        "print(numeros) # Imprime [10, 3, 4, 5, 6]\n",
        "\n",
        "# Tamanho da lista:\n",
        "# Podemos usar a função len() para obter o número de elementos em uma lista.\n",
        "print(len(numeros)) # Imprime 5\n",
        "\n",
        "# Iteração sobre os elementos:\n",
        "# Podemos iterar sobre os elementos de uma lista usando um loop for.\n",
        "for numero in numeros:\n",
        "numero\n",
        "\n",
        "\n",
        "# Outros métodos úteis para listas:\n",
        "# insert(), index(), count(), sort(), reverse(), clear(), copy()\n",
        "# Consulte a documentação oficial para mais detalhes.\n"
      ],
      "metadata": {
        "id": "1NSzXfct3Lkw"
      },
      "execution_count": null,
      "outputs": []
    },
    {
      "cell_type": "markdown",
      "source": [
        "As listas são organizadas em Python porque **cada elemento da lista tem um índice que indica sua posição na lista**. Os índices começam em 0 e vão até o tamanho da lista menos 1."
      ],
      "metadata": {
        "id": "qUz3sJNl6LgK"
      }
    },
    {
      "cell_type": "markdown",
      "source": [
        "Temos então 5 elementos com índices variando de 0 a 4, ordenadamente:\n",
        "\n",
        "```\n",
        "#             [0]           [1]   [2]   [3]    [4]\n",
        "lista = ['Fabricio Daniel', 9.5 , 9.0 , 8.0 , True]\n",
        "```\n",
        "\n",
        "Em Python temos também os índices **negativos** que se iniciam no último elemento com o valor de `-1` e depois avancam no universo dos negativos até chegar no 1° elemeno:\n",
        "\n",
        "```\n",
        "#             [-5]         [-4]  [-3]  [-2]   [-1]\n",
        "lista = ['Fabricio Daniel', 9.5 , 9.0 , 8.0 , True]\n",
        "```\n",
        "\n",
        "Conseguimos selecionar separadamente cada elemento através de seus respectivos índices. Colocando o nome da lista e em seguida o índice a ser selecionado."
      ],
      "metadata": {
        "id": "rLf-Qg526hFD"
      }
    },
    {
      "cell_type": "code",
      "source": [
        "\n",
        "lista = ['Fabricio Daniel', 9.5 , 9.0 , 8.0 , True]\n",
        "\n",
        "# Acesso por índice positivo\n",
        "print(lista[0])  # Imprime 'Fabricio Daniel'\n",
        "print(lista[1])  # Imprime 9.5\n",
        "print(lista[4])  # Imprime True\n",
        "\n",
        "# Acesso por índice negativo\n",
        "print(lista[-1]) # Imprime True\n",
        "print(lista[-2]) # Imprime 8.0\n",
        "print(lista[-5]) # Imprime 'Fabricio Daniel'\n"
      ],
      "metadata": {
        "id": "S1lf1DWg3J7A"
      },
      "execution_count": null,
      "outputs": []
    },
    {
      "cell_type": "markdown",
      "source": [
        "Uma forma mais dinâmica de trabalhar item por item de uma lista é utilizando um laço for para leitura elemento a elemento."
      ],
      "metadata": {
        "id": "6TaE1ijmBTCd"
      }
    },
    {
      "cell_type": "code",
      "source": [
        "lista = ['Fabricio Daniel', 9.5 , 9.0 , 8.0 , True]\n",
        "\n",
        "# Usando um laço for para iterar sobre a lista\n",
        "for elemento in lista:\n",
        "elemento\n"
      ],
      "metadata": {
        "id": "2GWvY7F-3IVP"
      },
      "execution_count": null,
      "outputs": []
    },
    {
      "cell_type": "markdown",
      "source": [
        "A nota `8.0` de Fabricio Daniel precisa ser ajustada pois ganhou 2 pontos em sua ultima nota por fazer um trabalho de turma. Então é necessária fazer uma troca no valor do índice `3` de `8.0` para `10.0`."
      ],
      "metadata": {
        "id": "Dh1_HnIVvucY"
      }
    },
    {
      "cell_type": "code",
      "source": [
        "lista = ['Fabricio Daniel', 9.5 , 9.0 , 8.0 , True]\n",
        "\n",
        "# A nota 8.0 de Fabricio Daniel precisa ser ajustada pois ganhou 2 pontos em sua ultima nota por fazer um trabalho de turma.\n",
        "# Então é necessária fazer uma troca no valor do índice 3 de 8.0 para 10.0.\n",
        "lista[3] = 10.0\n",
        "\n",
        "lista\n"
      ],
      "metadata": {
        "id": "ffFiIlji3G7H"
      },
      "execution_count": null,
      "outputs": []
    },
    {
      "cell_type": "markdown",
      "source": [
        "conseguimos calcular a média do aluno a partir dos dados que temos"
      ],
      "metadata": {
        "id": "53XduzXkycAf"
      }
    },
    {
      "cell_type": "code",
      "source": [
        "media = (lista[1] + lista[2] + lista[3])/3\n",
        "media"
      ],
      "metadata": {
        "id": "fRy9twzI3GFI"
      },
      "execution_count": null,
      "outputs": []
    },
    {
      "cell_type": "markdown",
      "source": [
        "## Manipulação de listas\n",
        "\n",
        "As listas são muito úteis em Python porque permitem armazenar e acessar uma coleção de itens de maneira organizada e rápida. Elas também oferecem muitos métodos úteis para manipular os itens armazenados, como adicionar, remover, classificar e pesquisar elementos."
      ],
      "metadata": {
        "id": "d-iYr10-y4qw"
      }
    },
    {
      "cell_type": "markdown",
      "source": [
        "#### Quantidade de elementos\n",
        "\n",
        "Usamos a função [`len()`](https://docs.python.org/3/library/functions.html#len) para descobrimos a quantidade de elementos de um conjunto."
      ],
      "metadata": {
        "id": "ZLqx9A97XVB_"
      }
    },
    {
      "cell_type": "code",
      "source": [
        "\n",
        "minha_lista = [10, 20, 30, 40, 50]\n",
        "tamanho_da_lista = len(minha_lista)\n",
        "print(tamanho_da_lista)  # Saída: 5\n"
      ],
      "metadata": {
        "id": "TOVGVubX3BI_"
      },
      "execution_count": null,
      "outputs": []
    },
    {
      "cell_type": "markdown",
      "source": [
        "#### Partição\n",
        "\n",
        "A partição de listas por indexação em Python é uma técnica muito útil para selecionar um subconjunto de elementos de uma lista. Ela é feita usando a sintaxe `lista[inicio:fim]`, onde `inicio` é o índice do primeiro elemento a ser incluído na partição e `fim` é o índice do primeiro elemento a ser excluído da partição."
      ],
      "metadata": {
        "id": "Z5tpstlHJss3"
      }
    },
    {
      "cell_type": "code",
      "source": [
        "\n",
        "# Exemplo:\n",
        "minha_lista = [10, 20, 30, 40, 50]\n",
        "\n",
        "# Selecionar os elementos do índice 1 ao índice 3 (excluindo o índice 4)\n",
        "sublista = minha_lista[1:4]\n",
        "print(sublista)  # Saída: [20, 30, 40]\n",
        "\n",
        "# Selecionar os elementos do índice 0 ao índice 2 (excluindo o índice 3)\n",
        "sublista = minha_lista[:3]\n",
        "print(sublista)  # Saída: [10, 20, 30]\n",
        "\n",
        "# Selecionar os elementos do índice 2 até o final da lista\n",
        "sublista = minha_lista[2:]\n",
        "print(sublista)  # Saída: [30, 40, 50]\n",
        "\n",
        "# Selecionar todos os elementos da lista (cópia da lista original)\n",
        "sublista = minha_lista[:]\n",
        "print(sublista)  # Saída: [10, 20, 30, 40, 50]\n",
        "\n",
        "# Índices negativos:\n",
        "# Selecionar os elementos do índice -3 ao índice -1 (excluindo o índice 0)\n",
        "sublista = minha_lista[-3:-1]\n",
        "print(sublista) # Saída: [30, 40]\n",
        "\n",
        "# Criar uma lista invertida:\n",
        "sublista = minha_lista[::-1]\n",
        "print(sublista) # Saída: [50, 40, 30, 20, 10]\n"
      ],
      "metadata": {
        "id": "Gm9RaTnG28uC"
      },
      "execution_count": null,
      "outputs": []
    },
    {
      "cell_type": "markdown",
      "source": [
        "#### [`append()`](https://docs.python.org/3/tutorial/datastructures.html#:~:text=of%20list%20objects%3A-,list.append(x),-Add%20an%20item)\n",
        "\n",
        "Adiciona um elemento ao final da lista."
      ],
      "metadata": {
        "id": "O0RRyabkRzZC"
      }
    },
    {
      "cell_type": "code",
      "source": [
        "minha_lista = [1, 2, 3]\n",
        "minha_lista.append(4)\n",
        "print(minha_lista)  # Saída: [1, 2, 3, 4]\n",
        "\n",
        "minha_lista.append(\"novo elemento\")\n",
        "print(minha_lista) # Saída: [1, 2, 3, 4, \"novo elemento\"]\n"
      ],
      "metadata": {
        "id": "Sr2BasZE20qF"
      },
      "execution_count": null,
      "outputs": []
    },
    {
      "cell_type": "markdown",
      "source": [
        "#### [`extend()`](https://docs.python.org/3/tutorial/datastructures.html#:~:text=list.extend(iterable))\n",
        "\n",
        "Adiciona vários elementos ao final da lista.\n",
        "\n",
        "Adicionaremos as notas `[10.0,8.0,9.0]` na lista do Fabricio Daniel"
      ],
      "metadata": {
        "id": "uQV91XMsUOJD"
      }
    },
    {
      "cell_type": "markdown",
      "source": [
        "*Isso não é possivel ser feito com o* `append`."
      ],
      "metadata": {
        "id": "IVJvkTwNUk6M"
      }
    },
    {
      "cell_type": "code",
      "source": [
        "\n",
        "lista = ['Fabricio Daniel', 9.5 , 9.0 , 10.0 , True]\n",
        "lista.extend([10.0, 8.0, 9.0])  # Correct: Extends the list with individual elements\n",
        "print(lista) # Output: ['Fabricio Daniel', 9.5, 9.0, 10.0, True, 10.0, 8.0, 9.0]\n",
        "\n",
        "\n"
      ],
      "metadata": {
        "id": "DyT9kWkB2yeB"
      },
      "execution_count": null,
      "outputs": []
    },
    {
      "cell_type": "markdown",
      "source": [
        "#### [`remove()`](https://docs.python.org/3/tutorial/datastructures.html#:~:text=append(x).-,list.remove(x),-Remove%20the%20first)\n",
        "\n",
        "Remove um elemento específico da lista."
      ],
      "metadata": {
        "id": "dPGM5gpyUX1z"
      }
    },
    {
      "cell_type": "code",
      "source": [
        "\n",
        "\n",
        "lista = ['Fabricio Daniel', 9.5 , 9.0 , 10.0 , True]\n",
        "lista.remove(9.0)\n",
        "lista\n"
      ],
      "metadata": {
        "id": "QgXraxZL2xZN"
      },
      "execution_count": null,
      "outputs": []
    },
    {
      "cell_type": "markdown",
      "source": [
        "## Dicionário"
      ],
      "metadata": {
        "id": "Rc22Vc08YDZ2"
      }
    },
    {
      "cell_type": "markdown",
      "source": [
        "Os dicionários são um tipo de estrutura de dados que armazenam pares de *chave-valor*. Eles são delimitados por chaves `{}` e os pares *chave-valor* são separados por vírgulas.\n",
        "\n",
        "```\n",
        "dicionário = {chave: valor}\n",
        "```\n",
        "\n",
        "A **chave** é um elemento único que identifica um valor no dicionário, enquanto o **valor** é o item que é armazenado para a chave. As chaves e os valores podem ser de **qualquer tipo de dado**.\n",
        "\n",
        "Os dicionários são úteis para armazenar e acessar dados de maneira organizada e rápida. Eles são um tipo de conjunto de elementos em Python, pois armazenam uma coleção de itens."
      ],
      "metadata": {
        "id": "PJ-cCKPjeWxL"
      }
    },
    {
      "cell_type": "code",
      "source": [
        "\n",
        "# Dicionário 1: Dados de um aluno\n",
        "aluno = {\n",
        "    \"nome\": \"Maria\",\n",
        "    \"idade\": 16,\n",
        "    \"notas\": [8.5, 7.0, 9.2],\n",
        "    \"aprovado\": True\n",
        "}\n",
        "\n",
        "# Dicionário 2: Informações de um produto\n",
        "produto = {\n",
        "    \"nome\": \"Celular\",\n",
        "    \"preco\": 1200.00,\n",
        "    \"descricao\": \"Smartphone com câmera de alta resolução\",\n",
        "    \"estoque\": 50\n",
        "}\n",
        "\n",
        "# Dicionário 3: Dados de um país\n",
        "pais = {\n",
        "    \"nome\": \"Brasil\",\n",
        "    \"capital\": \"Brasília\",\n",
        "    \"populacao\": 210000000,\n",
        "    \"continente\": \"América do Sul\"\n",
        "}\n"
      ],
      "metadata": {
        "id": "fO6BSSP02lPY"
      },
      "execution_count": null,
      "outputs": []
    },
    {
      "cell_type": "markdown",
      "source": [
        "---\n",
        "**Situação:**\n",
        "\n",
        "Vamos criar um conjunto de dados com informações de matricula de um estudante. Os dados são os seguintes:\n",
        "\n",
        "- matricula: 2000168933\n",
        "- dia de cadastro: 25\n",
        "- mês de cadastro: 10\n",
        "- turma: 2E"
      ],
      "metadata": {
        "id": "_JbQ3KMKfkXU"
      }
    },
    {
      "cell_type": "code",
      "source": [],
      "metadata": {
        "id": "Q1SKuEXQ2jkL"
      },
      "execution_count": null,
      "outputs": []
    },
    {
      "cell_type": "code",
      "source": [],
      "metadata": {
        "id": "H7oT2M_a2jY5"
      },
      "execution_count": null,
      "outputs": []
    },
    {
      "cell_type": "code",
      "source": [],
      "metadata": {
        "id": "Mv8we96a2jPR"
      },
      "execution_count": null,
      "outputs": []
    },
    {
      "cell_type": "markdown",
      "source": [
        "É possível substituir os valores dentro de uma chave. Por exemplo, recebemos a informação que a turma do estudante que cadastramos foi trocada para `'2G'` e agora precisamos trocar o valor da chave `'turma'`."
      ],
      "metadata": {
        "id": "8ex5pt2ykDd2"
      }
    },
    {
      "cell_type": "code",
      "source": [
        "\n",
        "# Criando o dicionário com as informações do estudante\n",
        "estudante = {\n",
        "    \"matricula\": 2000168933,\n",
        "    \"dia_cadastro\": 25,\n",
        "    \"mes_cadastro\": 10,\n",
        "    \"turma\": \"2E\"\n",
        "}\n",
        "\n",
        "# Imprimindo o dicionário original\n",
        "print(\"Dicionário original:\", estudante)\n",
        "\n",
        "# Substituindo o valor da chave \"turma\"\n",
        "estudante[\"turma\"] = \"2G\"\n",
        "\n",
        "# Imprimindo o dicionário atualizado\n",
        "print(\"Dicionário atualizado:\", estudante)\n"
      ],
      "metadata": {
        "id": "WqZPkVop2hq-"
      },
      "execution_count": null,
      "outputs": []
    },
    {
      "cell_type": "markdown",
      "source": [
        "Podemos também adicionar outros dados ao dicionário. Vamos adicionar a informação de modalidade de ensino, nosso estudante atuará inicialmente em modalidade EAD.\n",
        "\n",
        "Então iremos definir uma chave chamada `'modalidade'` e o valor `'EAD'`."
      ],
      "metadata": {
        "id": "wB0qRb56mQvv"
      }
    },
    {
      "cell_type": "code",
      "source": [],
      "metadata": {
        "id": "YDbsuNbw2gb2"
      },
      "execution_count": null,
      "outputs": []
    },
    {
      "cell_type": "markdown",
      "source": [
        "## Aprofundando em dicionários"
      ],
      "metadata": {
        "id": "LJ3o_inroxg_"
      }
    },
    {
      "cell_type": "markdown",
      "source": [
        "#### [`pop()`](https://python-reference.readthedocs.io/en/latest/docs/dict/pop.html)\n",
        "Remove um item de um dicionário e o retorna."
      ],
      "metadata": {
        "id": "2N3GLlkSpBiu"
      }
    },
    {
      "cell_type": "code",
      "source": [
        "# Exemplo 1: Removendo um item com uma chave específica\n",
        "estudante = {\n",
        "    \"matricula\": 2000168933,\n",
        "    \"dia_cadastro\": 25,\n",
        "    \"mes_cadastro\": 10,\n",
        "    \"turma\": \"2G\"\n",
        "}\n",
        "\n",
        "valor_removido = estudante.pop(\"turma\")\n",
        "print(f\"Valor removido: {valor_removido}\")\n",
        "print(f\"Dicionário atualizado: {estudante}\")\n",
        "\n",
        "\n",
        "# Exemplo 2: Removendo um item com uma chave específica e um valor padrão caso a chave não exista\n",
        "estudante = {\n",
        "    \"matricula\": 2000168933,\n",
        "    \"dia_cadastro\": 25,\n",
        "    \"mes_cadastro\": 10,\n",
        "}\n",
        "\n",
        "valor_removido = estudante.pop(\"turma\", \"Chave não encontrada\") # Se a chave não existir retorna 'Chave não encontrada'\n",
        "print(f\"Valor removido: {valor_removido}\")\n",
        "print(f\"Dicionário atualizado: {estudante}\")\n",
        "\n",
        "# Exemplo 3: Removendo o último item inserido (não é possível em dicionários)\n",
        "# Em dicionários, não existe a noção de \"último item inserido\", pois a ordem dos itens não é garantida.\n",
        "# Portanto, não é possível remover o último item inserido utilizando o pop() em um dicionário.\n",
        "# Caso você precise trabalhar com a ordem de inserção, considere utilizar um OrderedDict do módulo collections.\n",
        "from collections import OrderedDict\n",
        "\n",
        "estudante = OrderedDict()\n",
        "estudante[\"matricula\"] = 2000168933\n",
        "estudante[\"dia_cadastro\"] = 25\n",
        "estudante[\"mes_cadastro\"] = 10\n",
        "estudante[\"turma\"] = \"2G\"\n",
        "\n",
        "valor_removido = estudante.popitem(last=True)  # Para remover o último elemento usando popitem\n",
        "print(f\"Valor removido: {valor_removido}\")\n",
        "print(f\"Dicionário atualizado: {estudante}\")\n"
      ],
      "metadata": {
        "id": "NJKPaN0N2d2G"
      },
      "execution_count": null,
      "outputs": []
    },
    {
      "cell_type": "code",
      "source": [],
      "metadata": {
        "id": "7XZ7Rl4R2cSF"
      },
      "execution_count": null,
      "outputs": []
    },
    {
      "cell_type": "markdown",
      "source": [
        "#### [`items()`](https://python-reference.readthedocs.io/en/latest/docs/dict/items.html)\n",
        "Retorna uma lista de pares chave-valor do dicionário."
      ],
      "metadata": {
        "id": "sYZGvJJYrW_y"
      }
    },
    {
      "cell_type": "code",
      "source": [
        "\n",
        "from collections import OrderedDict\n",
        "\n",
        "'''explicando a classe `OrderedDict` do módulo `collections`.\n",
        "\n",
        "Em Python, um dicionário comum não garante uma ordem específica para seus elementos.  Se você adicionar itens a um dicionário e\n",
        "depois iterar sobre ele, a ordem em que os itens são retornados pode variar de uma execução para outra.\n",
        "\n",
        "`OrderedDict`, por outro lado, *preserva a ordem de inserção dos itens*.  Se você adicionar itens a um `OrderedDict` na ordem\n",
        "A, B, C, ao iterar sobre ele, você obterá os itens nessa mesma ordem (A, B, C).\n",
        "\n",
        "Em resumo, se a ordem dos itens em um dicionário for importante para seu código, use `OrderedDict`. Caso contrário, um dicionário normal é suficiente.  A diferença principal entre eles é a garantia da ordem.\n",
        "'''\n",
        "\n",
        "# Exemplo 1: Removendo uma lista de pares chave-valor\n",
        "estudante = {\n",
        "    \"matricula\": 2000168933,\n",
        "    \"dia_cadastro\": 25,\n",
        "    \"mes_cadastro\": 10,\n",
        "    \"turma\": \"2G\",\n",
        "    \"notas\": [8, 9, 7],\n",
        "    \"nome\": \"Fulano\"\n",
        "}\n",
        "\n",
        "chaves_para_remover = [\"notas\", \"nome\"]\n",
        "for chave in chaves_para_remover:\n",
        "    if chave in estudante:\n",
        "        estudante.pop(chave)\n",
        "\n",
        "print(f\"Dicionário atualizado (Exemplo 1): {estudante}\")\n",
        "\n",
        "\n",
        "# Exemplo 2: Usando items() para iterar e remover pares chave-valor\n",
        "estudante2 = {\n",
        "    \"matricula\": 2000168934,\n",
        "    \"dia_cadastro\": 26,\n",
        "    \"mes_cadastro\": 10,\n",
        "    \"turma\": \"2H\",\n",
        "    \"notas\": [7, 8, 9],\n",
        "    \"nome\": \"Ciclana\"\n",
        "}\n",
        "\n",
        "\n",
        "pares_para_remover = [(\"notas\", [7, 8, 9]), (\"nome\", \"Ciclana\")]\n",
        "for chave, valor in list(estudante2.items()): #É importante fazer uma cópia da lista para poder iterar sobre ela de forma segura enquanto remove elementos.\n",
        "  if (chave, valor) in pares_para_remover:\n",
        "    estudante2.pop(chave)\n",
        "\n",
        "print(f\"Dicionário atualizado (Exemplo 2): {estudante2}\")\n",
        "\n",
        "\n",
        "# Exemplo 3: Usando OrderedDict e items() para remover pares chave-valor mantendo a ordem de inserção\n",
        "estudante3 = OrderedDict()\n",
        "estudante3[\"matricula\"] = 2000168935\n",
        "estudante3[\"dia_cadastro\"] = 27\n",
        "estudante3[\"mes_cadastro\"] = 10\n",
        "estudante3[\"turma\"] = \"2I\"\n",
        "estudante3[\"notas\"] = [9, 10, 8]\n",
        "estudante3[\"nome\"] = \"Beltrano\"\n",
        "\n",
        "\n",
        "for chave, valor in list(estudante3.items()): #É importante fazer uma cópia da lista para poder iterar sobre ela de forma segura enquanto remove elementos.\n",
        "    if chave == \"notas\":\n",
        "        estudante3.pop(chave)\n",
        "\n",
        "print(f\"Dicionário atualizado (Exemplo 3): {estudante3}\")\n"
      ],
      "metadata": {
        "id": "rWJG9aZ72a0D"
      },
      "execution_count": null,
      "outputs": []
    },
    {
      "cell_type": "markdown",
      "source": [
        "#### [`keys()`](https://python-reference.readthedocs.io/en/latest/docs/dict/keys.html)\n",
        "Retorna uma lista das chaves do dicionário."
      ],
      "metadata": {
        "id": "Lb0utNFGrZBY"
      }
    },
    {
      "cell_type": "code",
      "source": [
        "\n",
        "from collections import OrderedDict\n",
        "\n",
        "estudante3 = OrderedDict()\n",
        "estudante3[\"matricula\"] = 2000168935\n",
        "estudante3[\"dia_cadastro\"] = 27\n",
        "estudante3[\"mes_cadastro\"] = 10\n",
        "estudante3[\"turma\"] = \"2I\"\n",
        "estudante3[\"notas\"] = [9, 10, 8]\n",
        "estudante3[\"nome\"] = \"Beltrano\"\n",
        "\n",
        "lista_chaves = list(estudante3.keys())\n",
        "lista_chaves\n"
      ],
      "metadata": {
        "id": "H1WmQRaR2Z-l"
      },
      "execution_count": null,
      "outputs": []
    },
    {
      "cell_type": "markdown",
      "source": [
        "#### [`values()`](https://python-reference.readthedocs.io/en/latest/docs/dict/values.html)\n",
        "Retorna uma lista dos valores do dicionário."
      ],
      "metadata": {
        "id": "qKyu3bf9rbtX"
      }
    },
    {
      "cell_type": "code",
      "source": [
        "from collections import OrderedDict\n",
        "\n",
        "estudante3 = OrderedDict()\n",
        "estudante3[\"matricula\"] = 2000168935\n",
        "estudante3[\"dia_cadastro\"] = 27\n",
        "estudante3[\"mes_cadastro\"] = 10\n",
        "estudante3[\"turma\"] = \"2I\"\n",
        "estudante3[\"notas\"] = [9, 10, 8]\n",
        "estudante3[\"nome\"] = \"Beltrano\"\n",
        "\n",
        "lista_valores = list(estudante3.values())\n",
        "lista_valores\n"
      ],
      "metadata": {
        "id": "E5pgDcfQ2ZHH",
        "colab": {
          "base_uri": "https://localhost:8080/"
        },
        "outputId": "22d7e431-0af4-4892-8c6b-304f44307106"
      },
      "execution_count": 46,
      "outputs": [
        {
          "output_type": "execute_result",
          "data": {
            "text/plain": [
              "[2000168935, 27, 10, '2I', [9, 10, 8], 'Beltrano']"
            ]
          },
          "metadata": {},
          "execution_count": 46
        }
      ]
    },
    {
      "cell_type": "markdown",
      "source": [
        "### Leitura de valores com `for`"
      ],
      "metadata": {
        "id": "e3XVjR8Frp75"
      }
    },
    {
      "cell_type": "code",
      "source": [
        "# Exemplo 1: Iterando pelas chaves e acessando os valores\n",
        "estudante = {\n",
        "    \"nome\": \"Alice\",\n",
        "    \"idade\": 15,\n",
        "    \"nota\": 8.5\n",
        "}\n",
        "\n",
        "for chave in estudante:\n",
        "    valor = estudante[chave]\n",
        "    print(f\"Chave: {chave}, Valor: {valor}\")\n",
        "\n",
        "\n",
        "# Exemplo 2: Iterando pelos itens (chave-valor)\n",
        "estudante = {\n",
        "    \"nome\": \"Bob\",\n",
        "    \"idade\": 16,\n",
        "    \"nota\": 9.2\n",
        "}\n",
        "\n",
        "for chave, valor in estudante.items():\n",
        "    print(f\"Chave: {chave}, Valor: {valor}\")\n",
        "\n",
        "# Exemplo 3: Iterando pelos valores diretamente\n",
        "estudante = {\n",
        "    \"nome\": \"Charlie\",\n",
        "    \"idade\": 17,\n",
        "    \"nota\": 7.8\n",
        "}\n",
        "\n",
        "for valor in estudante.values():\n",
        "    print(f\"Valor: {valor}\")\n"
      ],
      "metadata": {
        "id": "iwIY3hwV2XL5"
      },
      "execution_count": null,
      "outputs": []
    },
    {
      "cell_type": "code",
      "source": [],
      "metadata": {
        "id": "KlEbYjKN2XCy"
      },
      "execution_count": null,
      "outputs": []
    },
    {
      "cell_type": "code",
      "source": [],
      "metadata": {
        "id": "aiCgk-o42W6u"
      },
      "execution_count": null,
      "outputs": []
    }
  ]
}